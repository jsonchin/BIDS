{
 "cells": [
  {
   "cell_type": "code",
   "execution_count": 1,
   "metadata": {
    "collapsed": true
   },
   "outputs": [],
   "source": [
    "from collections import defaultdict\n",
    "from IPython.display import display\n",
    "from nltk.corpus import stopwords\n",
    "from sklearn.decomposition import PCA\n",
    "from sklearn.decomposition import TruncatedSVD\n",
    "from sklearn.feature_extraction.text import TfidfVectorizer\n",
    "from sklearn.metrics.pairwise import cosine_similarity\n",
    "import nltk.stem.wordnet as wordnet\n",
    "import matplotlib.pyplot as plt\n",
    "import numpy as np\n",
    "import pandas as pd\n",
    "import random\n",
    "import sklearn\n",
    "import string\n",
    "import time"
   ]
  },
  {
   "cell_type": "code",
   "execution_count": 2,
   "metadata": {
    "collapsed": true
   },
   "outputs": [],
   "source": [
    "sw = set(stopwords.words('english'))\n",
    "wnl = wordnet.WordNetLemmatizer()"
   ]
  },
  {
   "cell_type": "code",
   "execution_count": 3,
   "metadata": {
    "collapsed": false,
    "scrolled": true
   },
   "outputs": [
    {
     "data": {
      "text/html": [
       "<div>\n",
       "<table border=\"1\" class=\"dataframe\">\n",
       "  <thead>\n",
       "    <tr style=\"text-align: right;\">\n",
       "      <th></th>\n",
       "      <th>faculty_name</th>\n",
       "      <th>faculty_profile_url</th>\n",
       "      <th>l_expertise</th>\n",
       "      <th>department</th>\n",
       "      <th>title_name</th>\n",
       "      <th>faculty_site_url</th>\n",
       "      <th>lab_url</th>\n",
       "      <th>faculty_email</th>\n",
       "      <th>description</th>\n",
       "      <th>description_links</th>\n",
       "      <th>article_date_1</th>\n",
       "      <th>title_of_news_1</th>\n",
       "      <th>link_to_news_1</th>\n",
       "      <th>description_teaser_1</th>\n",
       "      <th>article_date_2</th>\n",
       "      <th>title_of_news_2</th>\n",
       "      <th>link_to_news_2</th>\n",
       "      <th>description_teaser_2</th>\n",
       "      <th>article_date_3</th>\n",
       "      <th>title_of_news_3</th>\n",
       "      <th>link_to_news_3</th>\n",
       "      <th>description_teaser_3</th>\n",
       "      <th>article_date_4</th>\n",
       "      <th>title_of_news_4</th>\n",
       "      <th>link_to_news_4</th>\n",
       "      <th>description_teaser_4</th>\n",
       "      <th>article_date_5</th>\n",
       "      <th>title_of_news_5</th>\n",
       "      <th>link_to_news_5</th>\n",
       "      <th>description_teaser_5</th>\n",
       "    </tr>\n",
       "  </thead>\n",
       "  <tbody>\n",
       "    <tr>\n",
       "      <th>0</th>\n",
       "      <td>David A. Aaker</td>\n",
       "      <td>/faculty/david-aaker</td>\n",
       "      <td>business,marketing,branding</td>\n",
       "      <td>Haas School of Business</td>\n",
       "      <td>Professor of Marketing and Public Policy</td>\n",
       "      <td>http://www.haas.berkeley.edu/faculty/aaker.html</td>\n",
       "      <td>http://groups.haas.berkeley.edu/marketing/</td>\n",
       "      <td>aaker@haas.berkeley.edu</td>\n",
       "      <td>NaN</td>\n",
       "      <td>NaN</td>\n",
       "      <td>NaN</td>\n",
       "      <td>NaN</td>\n",
       "      <td>NaN</td>\n",
       "      <td>NaN</td>\n",
       "      <td>NaN</td>\n",
       "      <td>NaN</td>\n",
       "      <td>NaN</td>\n",
       "      <td>NaN</td>\n",
       "      <td>NaN</td>\n",
       "      <td>NaN</td>\n",
       "      <td>NaN</td>\n",
       "      <td>NaN</td>\n",
       "      <td>NaN</td>\n",
       "      <td>NaN</td>\n",
       "      <td>NaN</td>\n",
       "      <td>NaN</td>\n",
       "      <td>NaN</td>\n",
       "      <td>NaN</td>\n",
       "      <td>NaN</td>\n",
       "      <td>NaN</td>\n",
       "    </tr>\n",
       "    <tr>\n",
       "      <th>1</th>\n",
       "      <td>Pieter Abbeel</td>\n",
       "      <td>/faculty/pieter-abbeel</td>\n",
       "      <td>robotics,machine learning</td>\n",
       "      <td>Division of Computer Science/EECS</td>\n",
       "      <td>Professor</td>\n",
       "      <td>http://www.cs.berkeley.edu/~pabbeel</td>\n",
       "      <td>NaN</td>\n",
       "      <td>pabbeel@cs.berkeley.edu</td>\n",
       "      <td>Robotics and Machine Learning.</td>\n",
       "      <td>NaN</td>\n",
       "      <td>February 22, 2016</td>\n",
       "      <td>“Deep Learning”: A Giant Step for Robots</td>\n",
       "      <td>/bakarfellows/profile/pieter_abbeel</td>\n",
       "      <td>Bakar Fellow Pieter Abbeel studies deep lear...</td>\n",
       "      <td>February 19, 2016</td>\n",
       "      <td>Three young faculty members honored by White ...</td>\n",
       "      <td>/news/three-young-faculty-members-honored-whit...</td>\n",
       "      <td>Three UC Berkeley faculty members named as r...</td>\n",
       "      <td>May 21, 2015</td>\n",
       "      <td>New ‘deep learning’ technique enables robot m...</td>\n",
       "      <td>/news/new-deep-learning-technique-enables-robo...</td>\n",
       "      <td>UC Berkeley researchers have developed algor...</td>\n",
       "      <td>December 17, 2012</td>\n",
       "      <td>Big NSF grant funds research into training ro...</td>\n",
       "      <td>/news/big-nsf-grant-funds-research-training-ro...</td>\n",
       "      <td>What if robots and humans, working together,...</td>\n",
       "      <td>August 23, 2011</td>\n",
       "      <td>UC Berkeley robotics expert named among world...</td>\n",
       "      <td>/news/uc-berkeley-robotics-expert-named-among-...</td>\n",
       "      <td>Pieter Abbeel, a UC Berkeley, professor know...</td>\n",
       "    </tr>\n",
       "    <tr>\n",
       "      <th>2</th>\n",
       "      <td>Elizabeth Abel</td>\n",
       "      <td>/faculty/elizabeth-abel</td>\n",
       "      <td>feminist theory,psychoanalysis,Virginia Woolf,...</td>\n",
       "      <td>Department of English</td>\n",
       "      <td>Professor of English</td>\n",
       "      <td>http://english.berkeley.edu/profiles/5</td>\n",
       "      <td>NaN</td>\n",
       "      <td>eabel@uclink.berkeley.edu</td>\n",
       "      <td>Elizabeth Abel's general research interest is...</td>\n",
       "      <td>NaN</td>\n",
       "      <td>February 15, 2011</td>\n",
       "      <td>Jim Crow signs as symbols of subjugation, tro...</td>\n",
       "      <td>/news/jim-crow-signs-symbols-subjugation-troph...</td>\n",
       "      <td>In the mid 1960s, landmark laws brought an o...</td>\n",
       "      <td>NaN</td>\n",
       "      <td>NaN</td>\n",
       "      <td>NaN</td>\n",
       "      <td>NaN</td>\n",
       "      <td>NaN</td>\n",
       "      <td>NaN</td>\n",
       "      <td>NaN</td>\n",
       "      <td>NaN</td>\n",
       "      <td>NaN</td>\n",
       "      <td>NaN</td>\n",
       "      <td>NaN</td>\n",
       "      <td>NaN</td>\n",
       "      <td>NaN</td>\n",
       "      <td>NaN</td>\n",
       "      <td>NaN</td>\n",
       "      <td>NaN</td>\n",
       "    </tr>\n",
       "    <tr>\n",
       "      <th>3</th>\n",
       "      <td>Dor Abrahamson</td>\n",
       "      <td>/faculty/dor-abrahamson</td>\n",
       "      <td>mathematical cognition,design-based research,m...</td>\n",
       "      <td>Graduate School of Education</td>\n",
       "      <td>Associate Professor of Cognition and Development</td>\n",
       "      <td>http://gse.berkeley.edu/people/dor-abrahamson</td>\n",
       "      <td>http://edrl.berkeley.edu/</td>\n",
       "      <td>dor@berkeley.edu</td>\n",
       "      <td>Dor Abrahamson studies the process of mathema...</td>\n",
       "      <td>NaN</td>\n",
       "      <td>NaN</td>\n",
       "      <td>NaN</td>\n",
       "      <td>NaN</td>\n",
       "      <td>NaN</td>\n",
       "      <td>NaN</td>\n",
       "      <td>NaN</td>\n",
       "      <td>NaN</td>\n",
       "      <td>NaN</td>\n",
       "      <td>NaN</td>\n",
       "      <td>NaN</td>\n",
       "      <td>NaN</td>\n",
       "      <td>NaN</td>\n",
       "      <td>NaN</td>\n",
       "      <td>NaN</td>\n",
       "      <td>NaN</td>\n",
       "      <td>NaN</td>\n",
       "      <td>NaN</td>\n",
       "      <td>NaN</td>\n",
       "      <td>NaN</td>\n",
       "      <td>NaN</td>\n",
       "    </tr>\n",
       "    <tr>\n",
       "      <th>4</th>\n",
       "      <td>Norman Abrahamson</td>\n",
       "      <td>/faculty/norman-abrahamson</td>\n",
       "      <td>civil and environmental engineering,earthquake...</td>\n",
       "      <td>Department of Civil and Environmental Engineering</td>\n",
       "      <td>Adjunct Professor of Civil and Environmental E...</td>\n",
       "      <td>http://www.ce.berkeley.edu/faculty/faculty.php...</td>\n",
       "      <td>NaN</td>\n",
       "      <td>naa3@earthlink.net</td>\n",
       "      <td>NaN</td>\n",
       "      <td>NaN</td>\n",
       "      <td>NaN</td>\n",
       "      <td>NaN</td>\n",
       "      <td>NaN</td>\n",
       "      <td>NaN</td>\n",
       "      <td>NaN</td>\n",
       "      <td>NaN</td>\n",
       "      <td>NaN</td>\n",
       "      <td>NaN</td>\n",
       "      <td>NaN</td>\n",
       "      <td>NaN</td>\n",
       "      <td>NaN</td>\n",
       "      <td>NaN</td>\n",
       "      <td>NaN</td>\n",
       "      <td>NaN</td>\n",
       "      <td>NaN</td>\n",
       "      <td>NaN</td>\n",
       "      <td>NaN</td>\n",
       "      <td>NaN</td>\n",
       "      <td>NaN</td>\n",
       "      <td>NaN</td>\n",
       "    </tr>\n",
       "  </tbody>\n",
       "</table>\n",
       "</div>"
      ],
      "text/plain": [
       "        faculty_name         faculty_profile_url  \\\n",
       "0     David A. Aaker        /faculty/david-aaker   \n",
       "1      Pieter Abbeel      /faculty/pieter-abbeel   \n",
       "2     Elizabeth Abel     /faculty/elizabeth-abel   \n",
       "3     Dor Abrahamson     /faculty/dor-abrahamson   \n",
       "4  Norman Abrahamson  /faculty/norman-abrahamson   \n",
       "\n",
       "                                         l_expertise  \\\n",
       "0                        business,marketing,branding   \n",
       "1                          robotics,machine learning   \n",
       "2  feminist theory,psychoanalysis,Virginia Woolf,...   \n",
       "3  mathematical cognition,design-based research,m...   \n",
       "4  civil and environmental engineering,earthquake...   \n",
       "\n",
       "                                          department  \\\n",
       "0                            Haas School of Business   \n",
       "1                  Division of Computer Science/EECS   \n",
       "2                              Department of English   \n",
       "3                       Graduate School of Education   \n",
       "4  Department of Civil and Environmental Engineering   \n",
       "\n",
       "                                          title_name  \\\n",
       "0           Professor of Marketing and Public Policy   \n",
       "1                                          Professor   \n",
       "2                               Professor of English   \n",
       "3   Associate Professor of Cognition and Development   \n",
       "4  Adjunct Professor of Civil and Environmental E...   \n",
       "\n",
       "                                    faculty_site_url  \\\n",
       "0    http://www.haas.berkeley.edu/faculty/aaker.html   \n",
       "1                http://www.cs.berkeley.edu/~pabbeel   \n",
       "2             http://english.berkeley.edu/profiles/5   \n",
       "3      http://gse.berkeley.edu/people/dor-abrahamson   \n",
       "4  http://www.ce.berkeley.edu/faculty/faculty.php...   \n",
       "\n",
       "                                      lab_url              faculty_email  \\\n",
       "0  http://groups.haas.berkeley.edu/marketing/    aaker@haas.berkeley.edu   \n",
       "1                                         NaN    pabbeel@cs.berkeley.edu   \n",
       "2                                         NaN  eabel@uclink.berkeley.edu   \n",
       "3                   http://edrl.berkeley.edu/           dor@berkeley.edu   \n",
       "4                                         NaN         naa3@earthlink.net   \n",
       "\n",
       "                                         description description_links  \\\n",
       "0                                                NaN               NaN   \n",
       "1                    Robotics and Machine Learning.                NaN   \n",
       "2   Elizabeth Abel's general research interest is...               NaN   \n",
       "3   Dor Abrahamson studies the process of mathema...               NaN   \n",
       "4                                                NaN               NaN   \n",
       "\n",
       "        article_date_1                                    title_of_news_1  \\\n",
       "0                  NaN                                                NaN   \n",
       "1   February 22, 2016           “Deep Learning”: A Giant Step for Robots    \n",
       "2   February 15, 2011    Jim Crow signs as symbols of subjugation, tro...   \n",
       "3                  NaN                                                NaN   \n",
       "4                  NaN                                                NaN   \n",
       "\n",
       "                                      link_to_news_1  \\\n",
       "0                                                NaN   \n",
       "1                /bakarfellows/profile/pieter_abbeel   \n",
       "2  /news/jim-crow-signs-symbols-subjugation-troph...   \n",
       "3                                                NaN   \n",
       "4                                                NaN   \n",
       "\n",
       "                                description_teaser_1       article_date_2  \\\n",
       "0                                                NaN                  NaN   \n",
       "1    Bakar Fellow Pieter Abbeel studies deep lear...   February 19, 2016    \n",
       "2    In the mid 1960s, landmark laws brought an o...                  NaN   \n",
       "3                                                NaN                  NaN   \n",
       "4                                                NaN                  NaN   \n",
       "\n",
       "                                     title_of_news_2  \\\n",
       "0                                                NaN   \n",
       "1   Three young faculty members honored by White ...   \n",
       "2                                                NaN   \n",
       "3                                                NaN   \n",
       "4                                                NaN   \n",
       "\n",
       "                                      link_to_news_2  \\\n",
       "0                                                NaN   \n",
       "1  /news/three-young-faculty-members-honored-whit...   \n",
       "2                                                NaN   \n",
       "3                                                NaN   \n",
       "4                                                NaN   \n",
       "\n",
       "                                description_teaser_2  article_date_3  \\\n",
       "0                                                NaN             NaN   \n",
       "1    Three UC Berkeley faculty members named as r...   May 21, 2015    \n",
       "2                                                NaN             NaN   \n",
       "3                                                NaN             NaN   \n",
       "4                                                NaN             NaN   \n",
       "\n",
       "                                     title_of_news_3  \\\n",
       "0                                                NaN   \n",
       "1   New ‘deep learning’ technique enables robot m...   \n",
       "2                                                NaN   \n",
       "3                                                NaN   \n",
       "4                                                NaN   \n",
       "\n",
       "                                      link_to_news_3  \\\n",
       "0                                                NaN   \n",
       "1  /news/new-deep-learning-technique-enables-robo...   \n",
       "2                                                NaN   \n",
       "3                                                NaN   \n",
       "4                                                NaN   \n",
       "\n",
       "                                description_teaser_3       article_date_4  \\\n",
       "0                                                NaN                  NaN   \n",
       "1    UC Berkeley researchers have developed algor...   December 17, 2012    \n",
       "2                                                NaN                  NaN   \n",
       "3                                                NaN                  NaN   \n",
       "4                                                NaN                  NaN   \n",
       "\n",
       "                                     title_of_news_4  \\\n",
       "0                                                NaN   \n",
       "1   Big NSF grant funds research into training ro...   \n",
       "2                                                NaN   \n",
       "3                                                NaN   \n",
       "4                                                NaN   \n",
       "\n",
       "                                      link_to_news_4  \\\n",
       "0                                                NaN   \n",
       "1  /news/big-nsf-grant-funds-research-training-ro...   \n",
       "2                                                NaN   \n",
       "3                                                NaN   \n",
       "4                                                NaN   \n",
       "\n",
       "                                description_teaser_4     article_date_5  \\\n",
       "0                                                NaN                NaN   \n",
       "1    What if robots and humans, working together,...   August 23, 2011    \n",
       "2                                                NaN                NaN   \n",
       "3                                                NaN                NaN   \n",
       "4                                                NaN                NaN   \n",
       "\n",
       "                                     title_of_news_5  \\\n",
       "0                                                NaN   \n",
       "1   UC Berkeley robotics expert named among world...   \n",
       "2                                                NaN   \n",
       "3                                                NaN   \n",
       "4                                                NaN   \n",
       "\n",
       "                                      link_to_news_5  \\\n",
       "0                                                NaN   \n",
       "1  /news/uc-berkeley-robotics-expert-named-among-...   \n",
       "2                                                NaN   \n",
       "3                                                NaN   \n",
       "4                                                NaN   \n",
       "\n",
       "                                description_teaser_5  \n",
       "0                                                NaN  \n",
       "1    Pieter Abbeel, a UC Berkeley, professor know...  \n",
       "2                                                NaN  \n",
       "3                                                NaN  \n",
       "4                                                NaN  "
      ]
     },
     "execution_count": 3,
     "metadata": {},
     "output_type": "execute_result"
    }
   ],
   "source": [
    "pd.set_option('max_columns', 40)\n",
    "vcr_df = pd.read_csv('../flaskr/flaskr/data_management/temp_data/faculty_vcr.csv', delimiter=\"~\")\n",
    "vcr_df.head()"
   ]
  },
  {
   "cell_type": "code",
   "execution_count": 4,
   "metadata": {
    "collapsed": false
   },
   "outputs": [
    {
     "data": {
      "text/html": [
       "<div>\n",
       "<table border=\"1\" class=\"dataframe\">\n",
       "  <thead>\n",
       "    <tr style=\"text-align: right;\">\n",
       "      <th></th>\n",
       "      <th>full_name</th>\n",
       "      <th>personal_webpage_url</th>\n",
       "      <th>cleaned_str_text</th>\n",
       "    </tr>\n",
       "  </thead>\n",
       "  <tbody>\n",
       "    <tr>\n",
       "      <th>0</th>\n",
       "      <td>john ellwood</td>\n",
       "      <td>http://sph.berkeley.edu/john-ellwood</td>\n",
       "      <td>john ellwood professor emeritus research inter...</td>\n",
       "    </tr>\n",
       "    <tr>\n",
       "      <th>1</th>\n",
       "      <td>iris mauss</td>\n",
       "      <td>http://psychology.berkeley.edu//people/iris-mauss</td>\n",
       "      <td>associate professor address imauss education s...</td>\n",
       "    </tr>\n",
       "    <tr>\n",
       "      <th>2</th>\n",
       "      <td>polina lishko</td>\n",
       "      <td>https://mcb.berkeley.edu/faculty/CDB/lishkop.html</td>\n",
       "      <td>polina lishko info assistant professor cell de...</td>\n",
       "    </tr>\n",
       "    <tr>\n",
       "      <th>3</th>\n",
       "      <td>david lindberg</td>\n",
       "      <td>https://ib.berkeley.edu/people/faculty/lindbergd</td>\n",
       "      <td>professor drl lab webpage labs lindberg drl fu...</td>\n",
       "    </tr>\n",
       "    <tr>\n",
       "      <th>4</th>\n",
       "      <td>raymond lifchez</td>\n",
       "      <td>https://ced.berkeley.edu/ced/faculty-staff/ray...</td>\n",
       "      <td>raymond lifchez professor architecture city re...</td>\n",
       "    </tr>\n",
       "  </tbody>\n",
       "</table>\n",
       "</div>"
      ],
      "text/plain": [
       "         full_name                               personal_webpage_url  \\\n",
       "0     john ellwood               http://sph.berkeley.edu/john-ellwood   \n",
       "1       iris mauss  http://psychology.berkeley.edu//people/iris-mauss   \n",
       "2    polina lishko  https://mcb.berkeley.edu/faculty/CDB/lishkop.html   \n",
       "3   david lindberg   https://ib.berkeley.edu/people/faculty/lindbergd   \n",
       "4  raymond lifchez  https://ced.berkeley.edu/ced/faculty-staff/ray...   \n",
       "\n",
       "                                    cleaned_str_text  \n",
       "0  john ellwood professor emeritus research inter...  \n",
       "1  associate professor address imauss education s...  \n",
       "2  polina lishko info assistant professor cell de...  \n",
       "3  professor drl lab webpage labs lindberg drl fu...  \n",
       "4  raymond lifchez professor architecture city re...  "
      ]
     },
     "execution_count": 4,
     "metadata": {},
     "output_type": "execute_result"
    }
   ],
   "source": [
    "cleaned_df = pd.read_csv('../flaskr/flaskr/data_management/temp_data/complete_cleaned_faculty_webpages.csv', delimiter=\",\")\n",
    "cleaned_df = cleaned_df[pd.notnull(cleaned_df['cleaned_str_text'])]\n",
    "cleaned_df.reset_index(drop=True)\n",
    "cleaned_df.head()"
   ]
  },
  {
   "cell_type": "code",
   "execution_count": 5,
   "metadata": {
    "collapsed": false,
    "scrolled": true
   },
   "outputs": [
    {
     "data": {
      "text/html": [
       "<div>\n",
       "<table border=\"1\" class=\"dataframe\">\n",
       "  <thead>\n",
       "    <tr style=\"text-align: right;\">\n",
       "      <th></th>\n",
       "      <th>OpportunityID</th>\n",
       "      <th>OpportunityTitle</th>\n",
       "      <th>OpportunityNumber</th>\n",
       "      <th>OpportunityCategory</th>\n",
       "      <th>FundingInstrumentType</th>\n",
       "      <th>CategoryOfFundingActivity</th>\n",
       "      <th>CategoryExplanation</th>\n",
       "      <th>CFDANumbers</th>\n",
       "      <th>EligibleApplicants</th>\n",
       "      <th>AdditionalInformationOnEligibility</th>\n",
       "      <th>AgencyCode</th>\n",
       "      <th>AgencyName</th>\n",
       "      <th>PostDate</th>\n",
       "      <th>CloseDate</th>\n",
       "      <th>LastUpdatedDate</th>\n",
       "      <th>AwardCeiling</th>\n",
       "      <th>AwardFloor</th>\n",
       "      <th>EstimatedTotalProgramFunding</th>\n",
       "      <th>ExpectedNumberOfAwards</th>\n",
       "      <th>Description</th>\n",
       "      <th>Version</th>\n",
       "      <th>CostSharingOrMatchingRequirement</th>\n",
       "      <th>ArchiveDate</th>\n",
       "      <th>GrantorContactEmail</th>\n",
       "      <th>GrantorContactEmailDescription</th>\n",
       "      <th>GrantorContactText</th>\n",
       "      <th>AdditionalInformationURL</th>\n",
       "      <th>AdditionalInformationText</th>\n",
       "      <th>OpportunityCategoryExplanation</th>\n",
       "      <th>CloseDateExplanation</th>\n",
       "    </tr>\n",
       "  </thead>\n",
       "  <tbody>\n",
       "    <tr>\n",
       "      <th>0</th>\n",
       "      <td>262148</td>\n",
       "      <td>Establishment of the Edmund S. Muskie Graduate...</td>\n",
       "      <td>SCAPPD-14-AW-161-SCA-08152014</td>\n",
       "      <td>D</td>\n",
       "      <td>CA</td>\n",
       "      <td>O</td>\n",
       "      <td>Public Diplomacy</td>\n",
       "      <td>19.040</td>\n",
       "      <td>25</td>\n",
       "      <td>Eligibility for U.S. institutions is limited t...</td>\n",
       "      <td>DOS-SA</td>\n",
       "      <td>Bureau of South and Central Asian Affairs</td>\n",
       "      <td>08-15-2014</td>\n",
       "      <td>09-04-2014</td>\n",
       "      <td>08-20-2014</td>\n",
       "      <td>600000.0</td>\n",
       "      <td>400000.0</td>\n",
       "      <td>600000.0</td>\n",
       "      <td>1.0</td>\n",
       "      <td>The Office of Press and Public Diplomacy of th...</td>\n",
       "      <td>Synopsis 2</td>\n",
       "      <td>No</td>\n",
       "      <td>10-04-2014</td>\n",
       "      <td>DelageEM@state.gov</td>\n",
       "      <td>Inquiries</td>\n",
       "      <td>Ellen Delage, Bureau of South and Central Asia...</td>\n",
       "      <td>NaN</td>\n",
       "      <td>NaN</td>\n",
       "      <td>NaN</td>\n",
       "      <td>NaN</td>\n",
       "    </tr>\n",
       "    <tr>\n",
       "      <th>1</th>\n",
       "      <td>262149</td>\n",
       "      <td>Eradication of Yellow Crazy Ants on Johnston A...</td>\n",
       "      <td>F14AS00402</td>\n",
       "      <td>D</td>\n",
       "      <td>CA</td>\n",
       "      <td>AG,ENV,NR</td>\n",
       "      <td>NaN</td>\n",
       "      <td>15.608</td>\n",
       "      <td>99</td>\n",
       "      <td>The recipient has already been selected for th...</td>\n",
       "      <td>DOI-FWS</td>\n",
       "      <td>Fish and Wildlife Service</td>\n",
       "      <td>08-15-2014</td>\n",
       "      <td>08-22-2014</td>\n",
       "      <td>08-15-2014</td>\n",
       "      <td>0.0</td>\n",
       "      <td>0.0</td>\n",
       "      <td>0.0</td>\n",
       "      <td>NaN</td>\n",
       "      <td>Funds under this award are to be used for the ...</td>\n",
       "      <td>Synopsis 1</td>\n",
       "      <td>No</td>\n",
       "      <td>08-23-2014</td>\n",
       "      <td>Connie_Sauer@fws.gov</td>\n",
       "      <td>Connie_Sauer@fws.gov</td>\n",
       "      <td>Connie Sauer, 503-490-0827&amp;lt;br/&amp;gt;Connie_Sa...</td>\n",
       "      <td>http://www.grants.gov/</td>\n",
       "      <td>http://www.grants.gov/</td>\n",
       "      <td>NaN</td>\n",
       "      <td>NaN</td>\n",
       "    </tr>\n",
       "    <tr>\n",
       "      <th>2</th>\n",
       "      <td>131073</td>\n",
       "      <td>Cooperative Ecosystem Studies Unit, Piedmont S...</td>\n",
       "      <td>G12AS20003</td>\n",
       "      <td>D</td>\n",
       "      <td>CA</td>\n",
       "      <td>ST</td>\n",
       "      <td>NaN</td>\n",
       "      <td>15.808</td>\n",
       "      <td>25</td>\n",
       "      <td>This financial assistance opportunity is being...</td>\n",
       "      <td>DOI-USGS1</td>\n",
       "      <td>Geological Survey</td>\n",
       "      <td>11-17-2011</td>\n",
       "      <td>11-29-2011</td>\n",
       "      <td>11-28-2011</td>\n",
       "      <td>0.0</td>\n",
       "      <td>0.0</td>\n",
       "      <td>31900.0</td>\n",
       "      <td>1.0</td>\n",
       "      <td>The USGS Southeast Ecological Science Center s...</td>\n",
       "      <td>Synopsis 2</td>\n",
       "      <td>No</td>\n",
       "      <td>12-17-2011</td>\n",
       "      <td>fgraves@usgs.gov</td>\n",
       "      <td>fgraves@usgs.gov</td>\n",
       "      <td>Faith Graves, 703-648-7356&amp;lt;br/&amp;gt;fgraves@u...</td>\n",
       "      <td>http://www.grants.gov/</td>\n",
       "      <td>http://www.grants.gov/</td>\n",
       "      <td>NaN</td>\n",
       "      <td>NaN</td>\n",
       "    </tr>\n",
       "    <tr>\n",
       "      <th>3</th>\n",
       "      <td>196613</td>\n",
       "      <td>OVW FY 2012 Training and Technical Assistance ...</td>\n",
       "      <td>OVW-2012-3380</td>\n",
       "      <td>D</td>\n",
       "      <td>CA</td>\n",
       "      <td>LJL</td>\n",
       "      <td>NaN</td>\n",
       "      <td>16.526</td>\n",
       "      <td>06,12</td>\n",
       "      <td>NaN</td>\n",
       "      <td>USDOJ-OJP-OVW</td>\n",
       "      <td>Office on Violence Against Women</td>\n",
       "      <td>08-29-2012</td>\n",
       "      <td>10-15-2012</td>\n",
       "      <td>08-29-2012</td>\n",
       "      <td>2500000.0</td>\n",
       "      <td>NaN</td>\n",
       "      <td>2500000.0</td>\n",
       "      <td>1.0</td>\n",
       "      <td>There are different statutory and regulatory r...</td>\n",
       "      <td>Synopsis 1</td>\n",
       "      <td>No</td>\n",
       "      <td>11-14-2012</td>\n",
       "      <td>Christina.Murray@usdoj.gov</td>\n",
       "      <td>Christina.Murray@usdoj.gov</td>\n",
       "      <td>Christina Murray &amp;lt;br/&amp;gt;Phone 202-307-0344</td>\n",
       "      <td>http://www.ovw.usdoj.gov/docs/grantee-reportin...</td>\n",
       "      <td>OVW FY 2012 Training and Technical Assistance ...</td>\n",
       "      <td>CategoryExplanation</td>\n",
       "      <td>NaN</td>\n",
       "    </tr>\n",
       "    <tr>\n",
       "      <th>4</th>\n",
       "      <td>65553</td>\n",
       "      <td>Affordable Care Act (ACA): Childhood Obesity R...</td>\n",
       "      <td>RFA-DP-11-007</td>\n",
       "      <td>D</td>\n",
       "      <td>CA</td>\n",
       "      <td>HL</td>\n",
       "      <td>NaN</td>\n",
       "      <td>93.535</td>\n",
       "      <td>99</td>\n",
       "      <td>NaN</td>\n",
       "      <td>HHS-CDC-HHSCDCERA</td>\n",
       "      <td>Centers for Disease Control and Prevention - ERA</td>\n",
       "      <td>01-19-2011</td>\n",
       "      <td>04-25-2011</td>\n",
       "      <td>04-15-2011</td>\n",
       "      <td>5250000.0</td>\n",
       "      <td>0.0</td>\n",
       "      <td>NaN</td>\n",
       "      <td>4.0</td>\n",
       "      <td>This Funding Opportunity Announcement (FOA) so...</td>\n",
       "      <td>Synopsis 10</td>\n",
       "      <td>No</td>\n",
       "      <td>05-18-2011</td>\n",
       "      <td>pgotim@cdc.gov</td>\n",
       "      <td>General Email</td>\n",
       "      <td>Centers for Disease Control and Prevention (CD...</td>\n",
       "      <td>Please click on Full Announcement at the top o...</td>\n",
       "      <td>Please click on Full Announcement at the top o...</td>\n",
       "      <td>NaN</td>\n",
       "      <td>On-time submission requires that electronic ap...</td>\n",
       "    </tr>\n",
       "  </tbody>\n",
       "</table>\n",
       "</div>"
      ],
      "text/plain": [
       "   OpportunityID                                   OpportunityTitle  \\\n",
       "0         262148  Establishment of the Edmund S. Muskie Graduate...   \n",
       "1         262149  Eradication of Yellow Crazy Ants on Johnston A...   \n",
       "2         131073  Cooperative Ecosystem Studies Unit, Piedmont S...   \n",
       "3         196613  OVW FY 2012 Training and Technical Assistance ...   \n",
       "4          65553  Affordable Care Act (ACA): Childhood Obesity R...   \n",
       "\n",
       "               OpportunityNumber OpportunityCategory FundingInstrumentType  \\\n",
       "0  SCAPPD-14-AW-161-SCA-08152014                   D                    CA   \n",
       "1                     F14AS00402                   D                    CA   \n",
       "2                     G12AS20003                   D                    CA   \n",
       "3                  OVW-2012-3380                   D                    CA   \n",
       "4                  RFA-DP-11-007                   D                    CA   \n",
       "\n",
       "  CategoryOfFundingActivity CategoryExplanation CFDANumbers  \\\n",
       "0                         O    Public Diplomacy      19.040   \n",
       "1                 AG,ENV,NR                 NaN      15.608   \n",
       "2                        ST                 NaN      15.808   \n",
       "3                       LJL                 NaN      16.526   \n",
       "4                        HL                 NaN      93.535   \n",
       "\n",
       "  EligibleApplicants                 AdditionalInformationOnEligibility  \\\n",
       "0                 25  Eligibility for U.S. institutions is limited t...   \n",
       "1                 99  The recipient has already been selected for th...   \n",
       "2                 25  This financial assistance opportunity is being...   \n",
       "3              06,12                                                NaN   \n",
       "4                 99                                                NaN   \n",
       "\n",
       "          AgencyCode                                        AgencyName  \\\n",
       "0             DOS-SA         Bureau of South and Central Asian Affairs   \n",
       "1            DOI-FWS                         Fish and Wildlife Service   \n",
       "2          DOI-USGS1                                 Geological Survey   \n",
       "3      USDOJ-OJP-OVW                  Office on Violence Against Women   \n",
       "4  HHS-CDC-HHSCDCERA  Centers for Disease Control and Prevention - ERA   \n",
       "\n",
       "     PostDate   CloseDate LastUpdatedDate  AwardCeiling  AwardFloor  \\\n",
       "0  08-15-2014  09-04-2014      08-20-2014      600000.0    400000.0   \n",
       "1  08-15-2014  08-22-2014      08-15-2014           0.0         0.0   \n",
       "2  11-17-2011  11-29-2011      11-28-2011           0.0         0.0   \n",
       "3  08-29-2012  10-15-2012      08-29-2012     2500000.0         NaN   \n",
       "4  01-19-2011  04-25-2011      04-15-2011     5250000.0         0.0   \n",
       "\n",
       "   EstimatedTotalProgramFunding  ExpectedNumberOfAwards  \\\n",
       "0                      600000.0                     1.0   \n",
       "1                           0.0                     NaN   \n",
       "2                       31900.0                     1.0   \n",
       "3                     2500000.0                     1.0   \n",
       "4                           NaN                     4.0   \n",
       "\n",
       "                                         Description      Version  \\\n",
       "0  The Office of Press and Public Diplomacy of th...   Synopsis 2   \n",
       "1  Funds under this award are to be used for the ...   Synopsis 1   \n",
       "2  The USGS Southeast Ecological Science Center s...   Synopsis 2   \n",
       "3  There are different statutory and regulatory r...   Synopsis 1   \n",
       "4  This Funding Opportunity Announcement (FOA) so...  Synopsis 10   \n",
       "\n",
       "  CostSharingOrMatchingRequirement ArchiveDate         GrantorContactEmail  \\\n",
       "0                               No  10-04-2014          DelageEM@state.gov   \n",
       "1                               No  08-23-2014        Connie_Sauer@fws.gov   \n",
       "2                               No  12-17-2011            fgraves@usgs.gov   \n",
       "3                               No  11-14-2012  Christina.Murray@usdoj.gov   \n",
       "4                               No  05-18-2011              pgotim@cdc.gov   \n",
       "\n",
       "  GrantorContactEmailDescription  \\\n",
       "0                      Inquiries   \n",
       "1          Connie_Sauer@fws.gov    \n",
       "2               fgraves@usgs.gov   \n",
       "3     Christina.Murray@usdoj.gov   \n",
       "4                  General Email   \n",
       "\n",
       "                                  GrantorContactText  \\\n",
       "0  Ellen Delage, Bureau of South and Central Asia...   \n",
       "1  Connie Sauer, 503-490-0827&lt;br/&gt;Connie_Sa...   \n",
       "2  Faith Graves, 703-648-7356&lt;br/&gt;fgraves@u...   \n",
       "3     Christina Murray &lt;br/&gt;Phone 202-307-0344   \n",
       "4  Centers for Disease Control and Prevention (CD...   \n",
       "\n",
       "                            AdditionalInformationURL  \\\n",
       "0                                                NaN   \n",
       "1                             http://www.grants.gov/   \n",
       "2                             http://www.grants.gov/   \n",
       "3  http://www.ovw.usdoj.gov/docs/grantee-reportin...   \n",
       "4  Please click on Full Announcement at the top o...   \n",
       "\n",
       "                           AdditionalInformationText  \\\n",
       "0                                                NaN   \n",
       "1                             http://www.grants.gov/   \n",
       "2                            http://www.grants.gov/    \n",
       "3  OVW FY 2012 Training and Technical Assistance ...   \n",
       "4  Please click on Full Announcement at the top o...   \n",
       "\n",
       "  OpportunityCategoryExplanation  \\\n",
       "0                            NaN   \n",
       "1                            NaN   \n",
       "2                            NaN   \n",
       "3            CategoryExplanation   \n",
       "4                            NaN   \n",
       "\n",
       "                                CloseDateExplanation  \n",
       "0                                                NaN  \n",
       "1                                                NaN  \n",
       "2                                                NaN  \n",
       "3                                                NaN  \n",
       "4  On-time submission requires that electronic ap...  "
      ]
     },
     "execution_count": 5,
     "metadata": {},
     "output_type": "execute_result"
    }
   ],
   "source": [
    "grants_df = pd.read_csv('../flaskr/flaskr/data_management/temp_data/grants_gov.csv', delimiter=\"~\")\n",
    "grants_df.head()"
   ]
  },
  {
   "cell_type": "code",
   "execution_count": 6,
   "metadata": {
    "collapsed": false,
    "scrolled": true
   },
   "outputs": [
    {
     "name": "stderr",
     "output_type": "stream",
     "text": [
      "/home/jerry/.local/lib/python3.6/site-packages/IPython/core/interactiveshell.py:2717: DtypeWarning: Columns (18,19) have mixed types. Specify dtype option on import or set low_memory=False.\n",
      "  interactivity=interactivity, compiler=compiler, result=result)\n"
     ]
    },
    {
     "data": {
      "text/html": [
       "<div>\n",
       "<table border=\"1\" class=\"dataframe\">\n",
       "  <thead>\n",
       "    <tr style=\"text-align: right;\">\n",
       "      <th></th>\n",
       "      <th>Activity Type</th>\n",
       "      <th>Amount</th>\n",
       "      <th>Sponsor Class</th>\n",
       "      <th>Sponsor</th>\n",
       "      <th>Division</th>\n",
       "      <th>Department</th>\n",
       "      <th>Fund</th>\n",
       "      <th>UCB Award Number</th>\n",
       "      <th>PI Name</th>\n",
       "      <th>Project Begin Date</th>\n",
       "      <th>Project End Date</th>\n",
       "      <th>Title</th>\n",
       "      <th>Unnamed: 12</th>\n",
       "      <th>Unnamed: 13</th>\n",
       "      <th>Unnamed: 14</th>\n",
       "      <th>Unnamed: 15</th>\n",
       "      <th>Unnamed: 16</th>\n",
       "      <th>Unnamed: 17</th>\n",
       "      <th>Unnamed: 18</th>\n",
       "      <th>Unnamed: 19</th>\n",
       "    </tr>\n",
       "  </thead>\n",
       "  <tbody>\n",
       "    <tr>\n",
       "      <th>0</th>\n",
       "      <td>Applied research</td>\n",
       "      <td>$179,032</td>\n",
       "      <td>State of California</td>\n",
       "      <td>California Department of Health Care Services</td>\n",
       "      <td>School of Public Health</td>\n",
       "      <td>NaN</td>\n",
       "      <td>15952.0</td>\n",
       "      <td>021331-002</td>\n",
       "      <td>Colford Jr, John M</td>\n",
       "      <td>7/1/2006</td>\n",
       "      <td>9/30/2006</td>\n",
       "      <td>DNS AIDS Training</td>\n",
       "      <td>NaN</td>\n",
       "      <td>NaN</td>\n",
       "      <td>NaN</td>\n",
       "      <td>NaN</td>\n",
       "      <td>NaN</td>\n",
       "      <td>NaN</td>\n",
       "      <td>NaN</td>\n",
       "      <td>NaN</td>\n",
       "    </tr>\n",
       "    <tr>\n",
       "      <th>1</th>\n",
       "      <td>Basic research</td>\n",
       "      <td>$154,578</td>\n",
       "      <td>State of California</td>\n",
       "      <td>California Department of Social Services</td>\n",
       "      <td>School of Social Welfare</td>\n",
       "      <td>NaN</td>\n",
       "      <td>15959.0</td>\n",
       "      <td>021362-002</td>\n",
       "      <td>Needell, Barbara</td>\n",
       "      <td>7/1/2006</td>\n",
       "      <td>9/30/2006</td>\n",
       "      <td>Performance Indicators/California Children's S...</td>\n",
       "      <td>NaN</td>\n",
       "      <td>NaN</td>\n",
       "      <td>NaN</td>\n",
       "      <td>NaN</td>\n",
       "      <td>NaN</td>\n",
       "      <td>NaN</td>\n",
       "      <td>NaN</td>\n",
       "      <td>NaN</td>\n",
       "    </tr>\n",
       "    <tr>\n",
       "      <th>2</th>\n",
       "      <td>Instruction</td>\n",
       "      <td>$225,000</td>\n",
       "      <td>State of California</td>\n",
       "      <td>California Department of Social Services</td>\n",
       "      <td>School of Social Welfare</td>\n",
       "      <td>Social Welfare</td>\n",
       "      <td>15960.0</td>\n",
       "      <td>021363-002</td>\n",
       "      <td>Midgley, James</td>\n",
       "      <td>7/1/2006</td>\n",
       "      <td>9/30/2006</td>\n",
       "      <td>Title IV-E Social Work Training Program</td>\n",
       "      <td>NaN</td>\n",
       "      <td>NaN</td>\n",
       "      <td>NaN</td>\n",
       "      <td>NaN</td>\n",
       "      <td>NaN</td>\n",
       "      <td>NaN</td>\n",
       "      <td>NaN</td>\n",
       "      <td>NaN</td>\n",
       "    </tr>\n",
       "    <tr>\n",
       "      <th>3</th>\n",
       "      <td>Instruction</td>\n",
       "      <td>$47,138</td>\n",
       "      <td>State of California</td>\n",
       "      <td>California Department of Social Services</td>\n",
       "      <td>School of Social Welfare</td>\n",
       "      <td>Social Welfare</td>\n",
       "      <td>15960.0</td>\n",
       "      <td>021363-002</td>\n",
       "      <td>Midgley, James</td>\n",
       "      <td>7/1/2006</td>\n",
       "      <td>9/30/2006</td>\n",
       "      <td>Title IV-E Social Work Training Program</td>\n",
       "      <td>NaN</td>\n",
       "      <td>NaN</td>\n",
       "      <td>NaN</td>\n",
       "      <td>NaN</td>\n",
       "      <td>NaN</td>\n",
       "      <td>NaN</td>\n",
       "      <td>NaN</td>\n",
       "      <td>NaN</td>\n",
       "    </tr>\n",
       "    <tr>\n",
       "      <th>4</th>\n",
       "      <td>Basic research</td>\n",
       "      <td>$65,000</td>\n",
       "      <td>Federal</td>\n",
       "      <td>NIH National Institutes of Health - Miscellaneous</td>\n",
       "      <td>VC Res Other Research Units</td>\n",
       "      <td>The California Institute for Quantitative Bios...</td>\n",
       "      <td>78561.0</td>\n",
       "      <td>021425-002</td>\n",
       "      <td>Keasling, Jay</td>\n",
       "      <td>7/1/2006</td>\n",
       "      <td>12/31/2006</td>\n",
       "      <td>Model-Driven Strain Engineering for Isoprenoid...</td>\n",
       "      <td>NaN</td>\n",
       "      <td>NaN</td>\n",
       "      <td>NaN</td>\n",
       "      <td>NaN</td>\n",
       "      <td>NaN</td>\n",
       "      <td>NaN</td>\n",
       "      <td>NaN</td>\n",
       "      <td>NaN</td>\n",
       "    </tr>\n",
       "  </tbody>\n",
       "</table>\n",
       "</div>"
      ],
      "text/plain": [
       "      Activity Type     Amount        Sponsor Class  \\\n",
       "0  Applied research  $179,032   State of California   \n",
       "1    Basic research  $154,578   State of California   \n",
       "2       Instruction  $225,000   State of California   \n",
       "3       Instruction   $47,138   State of California   \n",
       "4    Basic research   $65,000               Federal   \n",
       "\n",
       "                                             Sponsor  \\\n",
       "0      California Department of Health Care Services   \n",
       "1           California Department of Social Services   \n",
       "2           California Department of Social Services   \n",
       "3           California Department of Social Services   \n",
       "4  NIH National Institutes of Health - Miscellaneous   \n",
       "\n",
       "                      Division  \\\n",
       "0      School of Public Health   \n",
       "1     School of Social Welfare   \n",
       "2     School of Social Welfare   \n",
       "3     School of Social Welfare   \n",
       "4  VC Res Other Research Units   \n",
       "\n",
       "                                          Department     Fund  \\\n",
       "0                                                NaN  15952.0   \n",
       "1                                                NaN  15959.0   \n",
       "2                                     Social Welfare  15960.0   \n",
       "3                                     Social Welfare  15960.0   \n",
       "4  The California Institute for Quantitative Bios...  78561.0   \n",
       "\n",
       "  UCB Award Number             PI Name Project Begin Date Project End Date  \\\n",
       "0       021331-002  Colford Jr, John M           7/1/2006        9/30/2006   \n",
       "1       021362-002    Needell, Barbara           7/1/2006        9/30/2006   \n",
       "2       021363-002      Midgley, James           7/1/2006        9/30/2006   \n",
       "3       021363-002      Midgley, James           7/1/2006        9/30/2006   \n",
       "4       021425-002       Keasling, Jay           7/1/2006       12/31/2006   \n",
       "\n",
       "                                               Title Unnamed: 12 Unnamed: 13  \\\n",
       "0                                 DNS AIDS Training          NaN         NaN   \n",
       "1  Performance Indicators/California Children's S...         NaN         NaN   \n",
       "2            Title IV-E Social Work Training Program         NaN         NaN   \n",
       "3            Title IV-E Social Work Training Program         NaN         NaN   \n",
       "4  Model-Driven Strain Engineering for Isoprenoid...         NaN         NaN   \n",
       "\n",
       "  Unnamed: 14 Unnamed: 15 Unnamed: 16 Unnamed: 17 Unnamed: 18 Unnamed: 19  \n",
       "0         NaN         NaN         NaN         NaN         NaN         NaN  \n",
       "1         NaN         NaN         NaN         NaN         NaN         NaN  \n",
       "2         NaN         NaN         NaN         NaN         NaN         NaN  \n",
       "3         NaN         NaN         NaN         NaN         NaN         NaN  \n",
       "4         NaN         NaN         NaN         NaN         NaN         NaN  "
      ]
     },
     "execution_count": 6,
     "metadata": {},
     "output_type": "execute_result"
    }
   ],
   "source": [
    "grant_history_df = pd.read_csv('../scraped_data/research_grant_history.csv', delimiter=\",\")\n",
    "grant_history_df.head()"
   ]
  },
  {
   "cell_type": "code",
   "execution_count": 7,
   "metadata": {
    "collapsed": false,
    "scrolled": true
   },
   "outputs": [
    {
     "data": {
      "text/html": [
       "<div>\n",
       "<table border=\"1\" class=\"dataframe\">\n",
       "  <thead>\n",
       "    <tr style=\"text-align: right;\">\n",
       "      <th></th>\n",
       "      <th>Headline</th>\n",
       "      <th>Due Date Start</th>\n",
       "      <th>Due Date End</th>\n",
       "      <th>Description</th>\n",
       "      <th>Link</th>\n",
       "    </tr>\n",
       "  </thead>\n",
       "  <tbody>\n",
       "    <tr>\n",
       "      <th>0</th>\n",
       "      <td>Resource Implementations for Data Intensive Re...</td>\n",
       "      <td>None</td>\n",
       "      <td>2017-02-27</td>\n",
       "      <td>As part of NSF’s Cyberinfrastructure Framework...</td>\n",
       "      <td>https://nsf.gov/funding/pgm_summ.jsp?pims_id=5...</td>\n",
       "    </tr>\n",
       "    <tr>\n",
       "      <th>1</th>\n",
       "      <td>Computer Science for All</td>\n",
       "      <td>None</td>\n",
       "      <td>2017-02-28</td>\n",
       "      <td>This program aims to provide all U.S.students ...</td>\n",
       "      <td>https://nsf.gov/funding/pgm_summ.jsp?pims_id=5...</td>\n",
       "    </tr>\n",
       "    <tr>\n",
       "      <th>2</th>\n",
       "      <td>EPSCoR Research Infrastructure Improvement Tra...</td>\n",
       "      <td>None</td>\n",
       "      <td>2017-02-28</td>\n",
       "      <td>The Experimental Program to Stimulate Competit...</td>\n",
       "      <td>https://nsf.gov/funding/pgm_summ.jsp?pims_id=5...</td>\n",
       "    </tr>\n",
       "    <tr>\n",
       "      <th>3</th>\n",
       "      <td>Industry-University Cooperative Research Cente...</td>\n",
       "      <td>None</td>\n",
       "      <td>2017-02-28</td>\n",
       "      <td>The Industry-University Cooperative Research C...</td>\n",
       "      <td>https://nsf.gov/funding/pgm_summ.jsp?pims_id=5...</td>\n",
       "    </tr>\n",
       "    <tr>\n",
       "      <th>4</th>\n",
       "      <td>SOCIOLOGY PROGRAM - Doctoral Dissertation Rese...</td>\n",
       "      <td>None</td>\n",
       "      <td>2017-02-28</td>\n",
       "      <td>The Sociology Program supports basic research ...</td>\n",
       "      <td>https://nsf.gov/funding/pgm_summ.jsp?pims_id=5...</td>\n",
       "    </tr>\n",
       "  </tbody>\n",
       "</table>\n",
       "</div>"
      ],
      "text/plain": [
       "                                            Headline Due Date Start  \\\n",
       "0  Resource Implementations for Data Intensive Re...           None   \n",
       "1                           Computer Science for All           None   \n",
       "2  EPSCoR Research Infrastructure Improvement Tra...           None   \n",
       "3  Industry-University Cooperative Research Cente...           None   \n",
       "4  SOCIOLOGY PROGRAM - Doctoral Dissertation Rese...           None   \n",
       "\n",
       "  Due Date End                                        Description  \\\n",
       "0   2017-02-27  As part of NSF’s Cyberinfrastructure Framework...   \n",
       "1   2017-02-28  This program aims to provide all U.S.students ...   \n",
       "2   2017-02-28  The Experimental Program to Stimulate Competit...   \n",
       "3   2017-02-28  The Industry-University Cooperative Research C...   \n",
       "4   2017-02-28  The Sociology Program supports basic research ...   \n",
       "\n",
       "                                                Link  \n",
       "0  https://nsf.gov/funding/pgm_summ.jsp?pims_id=5...  \n",
       "1  https://nsf.gov/funding/pgm_summ.jsp?pims_id=5...  \n",
       "2  https://nsf.gov/funding/pgm_summ.jsp?pims_id=5...  \n",
       "3  https://nsf.gov/funding/pgm_summ.jsp?pims_id=5...  \n",
       "4  https://nsf.gov/funding/pgm_summ.jsp?pims_id=5...  "
      ]
     },
     "execution_count": 7,
     "metadata": {},
     "output_type": "execute_result"
    }
   ],
   "source": [
    "nsf_grants_df = pd.read_csv('../scraped_data/nsf_grants.csv', delimiter=\"~\")\n",
    "nsf_grants_df.head()"
   ]
  },
  {
   "cell_type": "code",
   "execution_count": 100,
   "metadata": {
    "collapsed": true
   },
   "outputs": [],
   "source": [
    "punc_trans = str.maketrans(string.punctuation, \" \" * len(string.punctuation))\n",
    "num_trans = str.maketrans('', '', '123456789')"
   ]
  },
  {
   "cell_type": "code",
   "execution_count": 101,
   "metadata": {
    "collapsed": true
   },
   "outputs": [],
   "source": [
    "descriptions = grants_df['Description']\n",
    "# Prepare grants.gov grants\n",
    "cleaned = []\n",
    "for desc in descriptions:\n",
    "    try:\n",
    "        desc = desc.lower()\n",
    "        desc = desc.translate(punc_trans)\n",
    "        desc = desc.translate(num_trans)\n",
    "        first = filter(lambda x: x.lower() not in sw, desc.split())\n",
    "        second = [wnl.lemmatize(x) for x in first]\n",
    "        cleaned.append(second)\n",
    "    except:\n",
    "        cleaned.append([\"Nothing\"])\n",
    "        \n",
    "grants_corpus = [' '.join(doc) for doc in cleaned]"
   ]
  },
  {
   "cell_type": "code",
   "execution_count": 102,
   "metadata": {
    "collapsed": true
   },
   "outputs": [],
   "source": [
    "descriptions = grant_history_df['Title']\n",
    "cleaned = []\n",
    "for desc in descriptions:\n",
    "    try:\n",
    "        desc = desc.lower()\n",
    "        desc = desc.translate(punc_trans)\n",
    "        desc = desc.translate(num_trans)\n",
    "        first = filter(lambda x: x.lower() not in sw, desc.split())\n",
    "        second = [wnl.lemmatize(x) for x in first]\n",
    "        cleaned.append(second)\n",
    "    except:\n",
    "        cleaned.append([\"Nothing\"])\n",
    "        \n",
    "faculty_grants_corpus = [' '.join(doc) for doc in cleaned]"
   ]
  },
  {
   "cell_type": "code",
   "execution_count": 103,
   "metadata": {
    "collapsed": false
   },
   "outputs": [],
   "source": [
    "descriptions = nsf_grants_df['Headline']\n",
    "cleaned = []\n",
    "for desc in descriptions:\n",
    "    try:\n",
    "        desc = desc.lower()\n",
    "        desc = desc.translate(punc_trans)\n",
    "        desc = desc.translate(num_trans)\n",
    "        first = filter(lambda x: x.lower() not in sw, desc.split())\n",
    "        second = [wnl.lemmatize(x) for x in first]\n",
    "        cleaned.append(second)\n",
    "    except:\n",
    "        cleaned.append([\"Nothing\"])\n",
    "        \n",
    "nsf_corpus = [' '.join(doc) for doc in cleaned]"
   ]
  },
  {
   "cell_type": "code",
   "execution_count": 118,
   "metadata": {
    "collapsed": false
   },
   "outputs": [],
   "source": [
    "grants_vectorizer = TfidfVectorizer(norm=None)\n",
    "grants_matrix = grants_vectorizer.fit_transform(grants_corpus)\n",
    "faculty_grants_matrix = grants_vectorizer.transform(faculty_grants_corpus)\n",
    "nsf_matrix = grants_vectorizer.transform(nsf_corpus)"
   ]
  },
  {
   "cell_type": "markdown",
   "metadata": {},
   "source": [
    "<b>Only run if want to try using SVD on matrices</b>"
   ]
  },
  {
   "cell_type": "code",
   "execution_count": 87,
   "metadata": {
    "collapsed": false
   },
   "outputs": [],
   "source": [
    "# Experimental\n",
    "# Trying out SVD on grants\n",
    "grant_svd = TruncatedSVD(n_components=12)\n",
    "grants_matrix = grant_svd.fit(grants_matrix).transform(grants_matrix)\n",
    "\n",
    "faculty_grant_svd = TruncatedSVD(n_components=12)\n",
    "faculty_grants_matrix = faculty_grant_svd.fit(faculty_grants_matrix).transform(faculty_grants_matrix)\n",
    "\n",
    "nsf_grant_svd = TruncatedSVD(n_components=12)\n",
    "nsf_matrix = nsf_grant_svd.fit(nsf_matrix).transform(nsf_matrix)"
   ]
  },
  {
   "cell_type": "markdown",
   "metadata": {},
   "source": [
    "<b>Create faculty profiles</b>"
   ]
  },
  {
   "cell_type": "code",
   "execution_count": 119,
   "metadata": {
    "collapsed": true
   },
   "outputs": [],
   "source": [
    "descriptions = cleaned_df['cleaned_str_text']\n",
    "cleaned = []\n",
    "for desc in descriptions:\n",
    "    try:\n",
    "        desc = desc.lower()\n",
    "        desc = desc.translate(punc_trans)\n",
    "        desc = desc.translate(num_trans)\n",
    "        first = filter(lambda x: x not in sw, desc.split())\n",
    "        second = [wnl.lemmatize(x) for x in first]\n",
    "        cleaned.append(second)\n",
    "    except:\n",
    "        cleaned.append([\"Nothing\"])\n",
    "\n",
    "faculty_corpus = [' '.join(doc) for doc in cleaned]"
   ]
  },
  {
   "cell_type": "code",
   "execution_count": 120,
   "metadata": {
    "collapsed": false
   },
   "outputs": [],
   "source": [
    "faculty_vectorizer = TfidfVectorizer()\n",
    "faculty_matrix = faculty_vectorizer.fit_transform(faculty_corpus)"
   ]
  },
  {
   "cell_type": "code",
   "execution_count": 121,
   "metadata": {
    "collapsed": false
   },
   "outputs": [],
   "source": [
    "faculty_profiles = {}\n",
    "for index, row in cleaned_df.iterrows():\n",
    "    if index < faculty_matrix.shape[0]:\n",
    "        faculty_profiles[row[\"full_name\"]] = faculty_matrix[index]\n",
    "    else:\n",
    "        break"
   ]
  },
  {
   "cell_type": "markdown",
   "metadata": {},
   "source": [
    "<b>Assign grants from '10 years grants history' to faculty</b>"
   ]
  },
  {
   "cell_type": "code",
   "execution_count": 122,
   "metadata": {
    "collapsed": false
   },
   "outputs": [],
   "source": [
    "faculty_names = faculty_profiles.keys()\n",
    "faculty_to_grants = defaultdict(list)\n",
    "for index, row in grant_history_df.iterrows():\n",
    "    # Changing format of name to fit names in vcr_cleaned\n",
    "    name = row['PI Name'].lower().translate(punc_trans)\n",
    "    name = ' '.join(list(filter(lambda x: len(x) > 1, name.split(\" \")))[::-1])\n",
    "    if name in faculty_names:\n",
    "        faculty_to_grants[name].append(index)"
   ]
  },
  {
   "cell_type": "markdown",
   "metadata": {},
   "source": [
    "<b>Match an NSF grant to professors using dot similarity</b>"
   ]
  },
  {
   "cell_type": "code",
   "execution_count": 140,
   "metadata": {
    "collapsed": false
   },
   "outputs": [
    {
     "data": {
      "text/html": [
       "<div>\n",
       "<table border=\"1\" class=\"dataframe\">\n",
       "  <thead>\n",
       "    <tr style=\"text-align: right;\">\n",
       "      <th></th>\n",
       "      <th>Headline</th>\n",
       "      <th>Due Date Start</th>\n",
       "      <th>Due Date End</th>\n",
       "      <th>Description</th>\n",
       "      <th>Link</th>\n",
       "    </tr>\n",
       "  </thead>\n",
       "  <tbody>\n",
       "    <tr>\n",
       "      <th>31</th>\n",
       "      <td>Advanced Biomanufacturing of Therapeutic Cells</td>\n",
       "      <td>None</td>\n",
       "      <td>2017-04-17</td>\n",
       "      <td>In recent years, somatic cells as therapeutic ...</td>\n",
       "      <td>https://nsf.gov/funding/pgm_summ.jsp?pims_id=5...</td>\n",
       "    </tr>\n",
       "  </tbody>\n",
       "</table>\n",
       "</div>"
      ],
      "text/plain": [
       "                                          Headline Due Date Start  \\\n",
       "31  Advanced Biomanufacturing of Therapeutic Cells           None   \n",
       "\n",
       "   Due Date End                                        Description  \\\n",
       "31   2017-04-17  In recent years, somatic cells as therapeutic ...   \n",
       "\n",
       "                                                 Link  \n",
       "31  https://nsf.gov/funding/pgm_summ.jsp?pims_id=5...  "
      ]
     },
     "metadata": {},
     "output_type": "display_data"
    },
    {
     "name": "stdout",
     "output_type": "stream",
     "text": [
      "matthew welch 1.0\n",
      "matthew welch 1.0\n",
      "matthew welch 1.0\n",
      "david schaffer 1.0\n",
      "david schaffer 1.0\n",
      "31    https://nsf.gov/funding/pgm_summ.jsp?pims_id=505376&org=NSF&sel_org=NSF&from=fund\n"
     ]
    }
   ],
   "source": [
    "# Take a random NSF grant and match with professors\n",
    "random_index = random.sample((range(nsf_matrix.shape[0])), 1)[0]\n",
    "test_grant = nsf_matrix[random_index]\n",
    "closest_grants = []\n",
    "for index in range(faculty_grants_matrix.shape[0]):\n",
    "    training_grant = faculty_grants_matrix[index]\n",
    "    # Uses dot similarity\n",
    "    closest_grants.append((np.dot(training_grant, test_grant.T).toarray()[0][0], index))\n",
    "    # closest_grants.append((np.dot(training_grant, test_grant.T), index)) <--- For SVD\n",
    "    \n",
    "# Finds the 10 grants that are closest to the test grant\n",
    "max_product = max(closest_grants, key=lambda x: x[0])[0]\n",
    "closest_grants = [(x[0] / max_product, x[1]) for x in sorted(closest_grants)[-5:]]\n",
    "\n",
    "clustering_matches = []\n",
    "for faculty in faculty_to_grants:\n",
    "    faculty_grants = faculty_to_grants[faculty]\n",
    "    for value, closest_grant in closest_grants:\n",
    "        if closest_grant in faculty_grants:\n",
    "            clustering_matches.append((faculty, value))\n",
    "\n",
    "# Print out test grant, link to grant, and matched faculty\n",
    "test_grant_full = nsf_grants_df[random_index:random_index+1]\n",
    "display(test_grant_full)\n",
    "for faculty, value in clustering_matches:\n",
    "    print(faculty, value)\n",
    "    \n",
    "pd.options.display.max_colwidth = 1000\n",
    "print(test_grant_full['Link'].to_string())\n",
    "pd.options.display.max_colwidth = 50"
   ]
  },
  {
   "cell_type": "markdown",
   "metadata": {},
   "source": [
    "<b>Match an NSF grant to professors using cosine similarity</b>"
   ]
  },
  {
   "cell_type": "code",
   "execution_count": 141,
   "metadata": {
    "collapsed": false
   },
   "outputs": [
    {
     "data": {
      "text/html": [
       "<div>\n",
       "<table border=\"1\" class=\"dataframe\">\n",
       "  <thead>\n",
       "    <tr style=\"text-align: right;\">\n",
       "      <th></th>\n",
       "      <th>Headline</th>\n",
       "      <th>Due Date Start</th>\n",
       "      <th>Due Date End</th>\n",
       "      <th>Description</th>\n",
       "      <th>Link</th>\n",
       "    </tr>\n",
       "  </thead>\n",
       "  <tbody>\n",
       "    <tr>\n",
       "      <th>31</th>\n",
       "      <td>Advanced Biomanufacturing of Therapeutic Cells</td>\n",
       "      <td>None</td>\n",
       "      <td>2017-04-17</td>\n",
       "      <td>In recent years, somatic cells as therapeutic ...</td>\n",
       "      <td>https://nsf.gov/funding/pgm_summ.jsp?pims_id=5...</td>\n",
       "    </tr>\n",
       "  </tbody>\n",
       "</table>\n",
       "</div>"
      ],
      "text/plain": [
       "                                          Headline Due Date Start  \\\n",
       "31  Advanced Biomanufacturing of Therapeutic Cells           None   \n",
       "\n",
       "   Due Date End                                        Description  \\\n",
       "31   2017-04-17  In recent years, somatic cells as therapeutic ...   \n",
       "\n",
       "                                                 Link  \n",
       "31  https://nsf.gov/funding/pgm_summ.jsp?pims_id=5...  "
      ]
     },
     "metadata": {},
     "output_type": "display_data"
    },
    {
     "name": "stdout",
     "output_type": "stream",
     "text": [
      "robert tjian 1.0\n",
      "robert tjian 1.0\n",
      "matthew francis 0.708433838697\n",
      "daniel fletcher 0.708476024639\n",
      "daniel fletcher 0.708476024639\n",
      "31    https://nsf.gov/funding/pgm_summ.jsp?pims_id=505376&org=NSF&sel_org=NSF&from=fund\n"
     ]
    }
   ],
   "source": [
    "# Take a random NSF grant and match with professors\n",
    "test_grant = nsf_matrix[random_index]\n",
    "closest_grants = []\n",
    "for index in range(faculty_grants_matrix.shape[0]):\n",
    "    training_grant = faculty_grants_matrix[index]\n",
    "    # Uses cosine similarity\n",
    "    closest_grants.append((cosine_similarity(training_grant, test_grant)[0][0], index))\n",
    "    \n",
    "# Finds the 10 grants that are closest to the test grant\n",
    "max_product = max(closest_grants, key=lambda x: x[0])[0]\n",
    "closest_grants = [(x[0] / max_product, x[1]) for x in sorted(closest_grants)[-5:]]\n",
    "\n",
    "clustering_matches = []\n",
    "for faculty in faculty_to_grants:\n",
    "    faculty_grants = faculty_to_grants[faculty]\n",
    "    for value, closest_grant in closest_grants:\n",
    "        if closest_grant in faculty_grants:\n",
    "            clustering_matches.append((faculty, value))\n",
    "\n",
    "# Print out test grant, link to grant, and matched faculty\n",
    "test_grant_full = nsf_grants_df[random_index:random_index+1]\n",
    "display(test_grant_full)\n",
    "for faculty, value in clustering_matches:\n",
    "    print(faculty, value)\n",
    "    \n",
    "pd.options.display.max_colwidth = 1000\n",
    "print(test_grant_full['Link'].to_string())\n",
    "pd.options.display.max_colwidth = 50"
   ]
  },
  {
   "cell_type": "code",
   "execution_count": 116,
   "metadata": {
    "collapsed": false
   },
   "outputs": [
    {
     "name": "stdout",
     "output_type": "stream",
     "text": [
      "1.0\n"
     ]
    }
   ],
   "source": [
    "print(np.linalg.norm(training_grant.toarray(), ord=None))"
   ]
  },
  {
   "cell_type": "markdown",
   "metadata": {},
   "source": [
    "<h1>Data analysis</h1>"
   ]
  },
  {
   "cell_type": "markdown",
   "metadata": {},
   "source": [
    "<b>SVD of faculty profiles</b>"
   ]
  },
  {
   "cell_type": "code",
   "execution_count": 31,
   "metadata": {
    "collapsed": true
   },
   "outputs": [],
   "source": [
    "faculty_svd = TruncatedSVD(n_components=3)\n",
    "svd_matrix = faculty_svd.fit(faculty_matrix).transform(faculty_matrix)"
   ]
  },
  {
   "cell_type": "code",
   "execution_count": 32,
   "metadata": {
    "collapsed": false
   },
   "outputs": [
    {
     "data": {
      "image/png": "[encoded data removed]",
      "text/plain": [
       "<matplotlib.figure.Figure at 0x7fa6b7cd3eb8>"
      ]
     },
     "metadata": {},
     "output_type": "display_data"
    }
   ],
   "source": [
    "plt.plot(svd_matrix[:,0], svd_matrix[:,1], 'ro')\n",
    "plt.xlabel(\"First principle component\", color=\"blue\")\n",
    "plt.ylabel(\"Second principle component\", color=\"blue\")\n",
    "plt.show()"
   ]
  },
  {
   "cell_type": "code",
   "execution_count": 33,
   "metadata": {
    "collapsed": false
   },
   "outputs": [
    {
     "data": {
      "image/png": "[encoded data removed]",
      "text/plain": [
       "<matplotlib.figure.Figure at 0x7fa6b7b8bf60>"
      ]
     },
     "metadata": {},
     "output_type": "display_data"
    }
   ],
   "source": [
    "y = faculty_svd.components_.T\n",
    "plt.plot(y[:,0], y[:,1], 'ro')\n",
    "plt.show()"
   ]
  },
  {
   "cell_type": "code",
   "execution_count": 34,
   "metadata": {
    "collapsed": false
   },
   "outputs": [
    {
     "data": {
      "image/png": "[encoded data removed]",
      "text/plain": [
       "<matplotlib.figure.Figure at 0x7fa6b1728400>"
      ]
     },
     "metadata": {},
     "output_type": "display_data"
    }
   ],
   "source": [
    "plt.plot(svd_matrix[:,0], svd_matrix[:,2], 'ro')\n",
    "plt.xlabel(\"First principle component\", color=\"blue\")\n",
    "plt.ylabel(\"Third principle component\", color=\"blue\")\n",
    "plt.show()"
   ]
  },
  {
   "cell_type": "code",
   "execution_count": 35,
   "metadata": {
    "collapsed": false
   },
   "outputs": [
    {
     "data": {
      "image/png": "[encoded data removed]",
      "text/plain": [
       "<matplotlib.figure.Figure at 0x7fa6b170a668>"
      ]
     },
     "metadata": {},
     "output_type": "display_data"
    }
   ],
   "source": [
    "plt.plot(svd_matrix[:,1], svd_matrix[:,2], 'ro')\n",
    "plt.xlabel(\"Second principle component\", color=\"blue\")\n",
    "plt.ylabel(\"Third principle component\", color=\"blue\")\n",
    "plt.show()"
   ]
  },
  {
   "cell_type": "markdown",
   "metadata": {},
   "source": [
    "<b>PCA of faculty profiles</b>"
   ]
  },
  {
   "cell_type": "code",
   "execution_count": 36,
   "metadata": {
    "collapsed": false
   },
   "outputs": [],
   "source": [
    "faculty_pca = PCA(n_components=2)\n",
    "pca_matrix = faculty_pca.fit(faculty_matrix.toarray()).transform(faculty_matrix.toarray())"
   ]
  },
  {
   "cell_type": "code",
   "execution_count": 37,
   "metadata": {
    "collapsed": false
   },
   "outputs": [
    {
     "data": {
      "text/plain": [
       "(2420, 2)"
      ]
     },
     "execution_count": 37,
     "metadata": {},
     "output_type": "execute_result"
    }
   ],
   "source": [
    "pca_matrix.shape"
   ]
  },
  {
   "cell_type": "code",
   "execution_count": 38,
   "metadata": {
    "collapsed": false
   },
   "outputs": [
    {
     "data": {
      "image/png": "[encoded data removed]",
      "text/plain": [
       "<matplotlib.figure.Figure at 0x7fa6b3bd35c0>"
      ]
     },
     "metadata": {},
     "output_type": "display_data"
    }
   ],
   "source": [
    "plt.plot(pca_matrix[:,0], pca_matrix[:,1], 'ro')\n",
    "plt.xlabel(\"First principle component\", color=\"blue\")\n",
    "plt.ylabel(\"Second principle component\", color=\"blue\")\n",
    "plt.show()"
   ]
  },
  {
   "cell_type": "code",
   "execution_count": 40,
   "metadata": {
    "collapsed": false
   },
   "outputs": [
    {
     "name": "stdout",
     "output_type": "stream",
     "text": [
      "27069\n",
      "0.422597747417\n",
      "law\n"
     ]
    }
   ],
   "source": [
    "x = faculty_pca.components_.T\n",
    "x_axis = x[:,0]\n",
    "print(np.argmax(x_axis))\n",
    "print(x_axis[27069])\n",
    "fac_vocab = faculty_vectorizer.vocabulary_\n",
    "for key in fac_vocab.keys():\n",
    "    if fac_vocab[key] == 27069:\n",
    "        print(key)"
   ]
  },
  {
   "cell_type": "code",
   "execution_count": 41,
   "metadata": {
    "collapsed": false
   },
   "outputs": [
    {
     "data": {
      "image/png": "[encoded data removed]",
      "text/plain": [
       "<matplotlib.figure.Figure at 0x7fa6b17ec320>"
      ]
     },
     "metadata": {},
     "output_type": "display_data"
    }
   ],
   "source": [
    "plt.plot(x[:,0], x[:,1], 'ro')\n",
    "plt.show()"
   ]
  },
  {
   "cell_type": "markdown",
   "metadata": {},
   "source": [
    "<b>SVD of grant profiles</b>"
   ]
  },
  {
   "cell_type": "code",
   "execution_count": 79,
   "metadata": {
    "collapsed": true
   },
   "outputs": [],
   "source": [
    "grant_svd = TruncatedSVD(n_components=10)\n",
    "svd_matrix_2 = grant_svd.fit(grants_matrix).transform(grants_matrix)"
   ]
  },
  {
   "cell_type": "code",
   "execution_count": 43,
   "metadata": {
    "collapsed": false
   },
   "outputs": [
    {
     "data": {
      "image/png": "[encoded data removed]",
      "text/plain": [
       "<matplotlib.figure.Figure at 0x7fa6b73e4080>"
      ]
     },
     "metadata": {},
     "output_type": "display_data"
    }
   ],
   "source": [
    "plt.plot(svd_matrix_2[:,2], svd_matrix_2[:,3], 'ro')\n",
    "plt.xlabel(\"First principle component\", color=\"blue\")\n",
    "plt.ylabel(\"Second principle component\", color=\"blue\")\n",
    "plt.show()"
   ]
  },
  {
   "cell_type": "code",
   "execution_count": 44,
   "metadata": {
    "collapsed": false
   },
   "outputs": [
    {
     "data": {
      "image/png": "[encoded data removed]",
      "text/plain": [
       "<matplotlib.figure.Figure at 0x7fa6b739e940>"
      ]
     },
     "metadata": {},
     "output_type": "display_data"
    }
   ],
   "source": [
    "plt.plot(svd_matrix_2[:,0], svd_matrix_2[:,1], 'ro')\n",
    "plt.xlabel(\"First principle component\", color=\"blue\")\n",
    "plt.ylabel(\"Third principle component\", color=\"blue\")\n",
    "plt.show()"
   ]
  },
  {
   "cell_type": "code",
   "execution_count": 45,
   "metadata": {
    "collapsed": false
   },
   "outputs": [
    {
     "data": {
      "image/png": "[encoded data removed]",
      "text/plain": [
       "<matplotlib.figure.Figure at 0x7fa6b73d1438>"
      ]
     },
     "metadata": {},
     "output_type": "display_data"
    }
   ],
   "source": [
    "explained = grant_svd.explained_variance_ratio_\n",
    "plt.plot(np.arange(explained.shape[0]), explained)\n",
    "plt.show()"
   ]
  },
  {
   "cell_type": "code",
   "execution_count": 84,
   "metadata": {
    "collapsed": false
   },
   "outputs": [
    {
     "data": {
      "image/png": "[encoded data removed]",
      "text/plain": [
       "<matplotlib.figure.Figure at 0x7fa6b1ee97b8>"
      ]
     },
     "metadata": {},
     "output_type": "display_data"
    }
   ],
   "source": [
    "faculty_grant_svd = TruncatedSVD(n_components=10)\n",
    "svd_matrix_2 = faculty_grant_svd.fit(faculty_grants_matrix).transform(faculty_grants_matrix)\n",
    "\n",
    "explained = faculty_grant_svd.explained_variance_ratio_\n",
    "plt.plot(np.arange(explained.shape[0]), explained)\n",
    "plt.show()"
   ]
  },
  {
   "cell_type": "code",
   "execution_count": 77,
   "metadata": {
    "collapsed": false
   },
   "outputs": [
    {
     "data": {
      "image/png": "[encoded data removed]",
      "text/plain": [
       "<matplotlib.figure.Figure at 0x7fa6b1ef09b0>"
      ]
     },
     "metadata": {},
     "output_type": "display_data"
    }
   ],
   "source": [
    "nsf_grant_svd = TruncatedSVD(n_components=30)\n",
    "svd_matrix_2 = nsf_grant_svd.fit(nsf_matrix).transform(nsf_matrix)\n",
    "\n",
    "explained = nsf_grant_svd.explained_variance_ratio_\n",
    "plt.plot(np.arange(explained.shape[0]), explained)\n",
    "plt.show()"
   ]
  },
  {
   "cell_type": "code",
   "execution_count": 85,
   "metadata": {
    "collapsed": false
   },
   "outputs": [
    {
     "data": {
      "image/png": "[encoded data removed]",
      "text/plain": [
       "<matplotlib.figure.Figure at 0x7fa6b1211320>"
      ]
     },
     "metadata": {},
     "output_type": "display_data"
    }
   ],
   "source": [
    "y = faculty_grant_svd.components_.T\n",
    "plt.plot(y[:,0], y[:,1], 'ro')\n",
    "plt.show()"
   ]
  },
  {
   "cell_type": "code",
   "execution_count": 78,
   "metadata": {
    "collapsed": false
   },
   "outputs": [
    {
     "data": {
      "image/png": "[encoded data removed]",
      "text/plain": [
       "<matplotlib.figure.Figure at 0x7fa6b7b25588>"
      ]
     },
     "metadata": {},
     "output_type": "display_data"
    }
   ],
   "source": [
    "y = nsf_grant_svd.components_.T\n",
    "plt.plot(y[:,0], y[:,1], 'ro')\n",
    "plt.show()"
   ]
  },
  {
   "cell_type": "code",
   "execution_count": 80,
   "metadata": {
    "collapsed": false
   },
   "outputs": [
    {
     "data": {
      "image/png": "[encoded data removed]",
      "text/plain": [
       "<matplotlib.figure.Figure at 0x7fa6b1ddb2b0>"
      ]
     },
     "metadata": {},
     "output_type": "display_data"
    }
   ],
   "source": [
    "y = grant_svd.components_.T\n",
    "plt.plot(y[:,0], y[:,1], 'ro')\n",
    "plt.show()"
   ]
  },
  {
   "cell_type": "code",
   "execution_count": null,
   "metadata": {
    "collapsed": true
   },
   "outputs": [],
   "source": []
  }
 ],
 "metadata": {
  "kernelspec": {
   "display_name": "Python 3",
   "language": "python",
   "name": "python3"
  },
  "language_info": {
   "codemirror_mode": {
    "name": "ipython",
    "version": 3
   },
   "file_extension": ".py",
   "mimetype": "text/x-python",
   "name": "python",
   "nbconvert_exporter": "python",
   "pygments_lexer": "ipython3",
   "version": "3.6.1"
  }
 },
 "nbformat": 4,
 "nbformat_minor": 2
}
